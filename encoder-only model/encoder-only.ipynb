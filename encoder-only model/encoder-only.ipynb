{
 "cells": [
  {
   "cell_type": "code",
   "execution_count": null,
   "metadata": {},
   "outputs": [],
   "source": [
    "from transformers import MarianMTModel, MarianTokenizer\n",
    "\n",
    "tokenizer = MarianTokenizer.from_pretrained(\"Helsinki-NLP/opus-mt-en-de\")\n",
    "model = MarianMTModel.from_pretrained(\"Helsinki-NLP/opus-mt-en-de\")\n",
    "\n",
    "# create ids of encoded input vectors\n",
    "input_ids = tokenizer(\"I want to buy a car\", return_tensors=\"pt\").input_ids\n",
    "\n",
    "# translate example\n",
    "output_ids = model.generate(input_ids)[0]\n",
    "\n",
    "# decode and print\n",
    "print(tokenizer.decode(output_ids))"
   ]
  },
  {
   "cell_type": "code",
   "execution_count": null,
   "metadata": {},
   "outputs": [],
   "source": [
    "%%capture\n",
    "from transformers import MarianMTModel, MarianTokenizer\n",
    "import torch\n",
    "\n",
    "tokenizer = MarianTokenizer.from_pretrained(\"Helsinki-NLP/opus-mt-en-de\")\n",
    "model = MarianMTModel.from_pretrained(\"Helsinki-NLP/opus-mt-en-de\")\n",
    "\n",
    "embeddings = model.get_input_embeddings()\n",
    "\n",
    "# create ids of encoded input vectors\n",
    "input_ids = tokenizer(\"I want to buy a car\", return_tensors=\"pt\").input_ids\n",
    "\n",
    "# pass input_ids to encoder\n",
    "encoder_hidden_states = model.base_model.encoder(input_ids, return_dict=True).last_hidden_state\n",
    "\n",
    "# change the input slightly and pass to encoder\n",
    "input_ids_perturbed = tokenizer(\"I want to buy a house\", return_tensors=\"pt\").input_ids\n",
    "encoder_hidden_states_perturbed = model.base_model.encoder(input_ids_perturbed, return_dict=True).last_hidden_state\n",
    "\n",
    "# compare shape and encoding of first vector\n",
    "print(f\"Length of input embeddings {embeddings(input_ids).shape[1]}. Length of encoder_hidden_states {encoder_hidden_states.shape[1]}\")\n",
    "\n",
    "# compare values of word embedding of \"I\" for input_ids and perturbed input_ids\n",
    "print(\"Is encoding for `I` equal to its perturbed version?: \", torch.allclose(encoder_hidden_states[0, 0], encoder_hidden_states_perturbed[0, 0], atol=1e-3))"
   ]
  }
 ],
 "metadata": {
  "language_info": {
   "name": "python"
  }
 },
 "nbformat": 4,
 "nbformat_minor": 2
}
